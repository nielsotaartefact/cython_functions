{
 "cells": [
  {
   "cell_type": "code",
   "execution_count": 2,
   "id": "f4c8b52f",
   "metadata": {},
   "outputs": [
    {
     "name": "stdout",
     "output_type": "stream",
     "text": [
      "Requirement already satisfied: Cython in c:\\users\\nielsota\\code\\tutorials\\cython_project\\venv\\lib\\site-packages (0.29.30)\n"
     ]
    },
    {
     "name": "stderr",
     "output_type": "stream",
     "text": [
      "WARNING: You are using pip version 22.0.4; however, version 22.1.2 is available.\n",
      "You should consider upgrading via the 'C:\\Users\\NielsOta\\Code\\Tutorials\\cython_project\\venv\\Scripts\\python.exe -m pip install --upgrade pip' command.\n"
     ]
    },
    {
     "name": "stdout",
     "output_type": "stream",
     "text": [
      "Requirement already satisfied: scipy in c:\\users\\nielsota\\code\\tutorials\\cython_project\\venv\\lib\\site-packages (1.8.1)"
     ]
    },
    {
     "name": "stderr",
     "output_type": "stream",
     "text": [
      "WARNING: You are using pip version 22.0.4; however, version 22.1.2 is available.\n",
      "You should consider upgrading via the 'C:\\Users\\NielsOta\\Code\\Tutorials\\cython_project\\venv\\Scripts\\python.exe -m pip install --upgrade pip' command.\n"
     ]
    },
    {
     "name": "stdout",
     "output_type": "stream",
     "text": [
      "\n",
      "Requirement already satisfied: numpy<1.25.0,>=1.17.3 in c:\\users\\nielsota\\code\\tutorials\\cython_project\\venv\\lib\\site-packages (from scipy) (1.22.4)\n",
      "Requirement already satisfied: cython in c:\\users\\nielsota\\code\\tutorials\\cython_project\\venv\\lib\\site-packages (0.29.30)\n"
     ]
    },
    {
     "name": "stderr",
     "output_type": "stream",
     "text": [
      "WARNING: You are using pip version 22.0.4; however, version 22.1.2 is available.\n",
      "You should consider upgrading via the 'C:\\Users\\NielsOta\\Code\\Tutorials\\cython_project\\venv\\Scripts\\python.exe -m pip install --upgrade pip' command.\n"
     ]
    }
   ],
   "source": [
    "!pip install Cython\n",
    "!pip install scipy\n",
    "!pip install cython"
   ]
  },
  {
   "cell_type": "code",
   "execution_count": 3,
   "id": "a31fd4b6",
   "metadata": {},
   "outputs": [],
   "source": [
    "%load_ext cython"
   ]
  },
  {
   "cell_type": "code",
   "execution_count": 16,
   "id": "991b8ab5",
   "metadata": {},
   "outputs": [],
   "source": [
    "%%cython\n",
    "\n",
    "cimport numpy as np\n",
    "import numpy as np\n",
    "import cython\n",
    "from scipy.linalg.cython_blas cimport ddot\n",
    "\n",
    "cpdef double dot_product(double[::1] x1, double[::1] x2):\n",
    "    \n",
    "    cdef int N = x1.shape[0]\n",
    "    cdef int incX = 1\n",
    "    cdef int incY = 1\n",
    "    \n",
    "    return ddot(&N, &x1[0], &incX, &x2[0], &incY)"
   ]
  },
  {
   "cell_type": "code",
   "execution_count": 17,
   "id": "6e80df66",
   "metadata": {},
   "outputs": [],
   "source": [
    "A1 = np.ones((10), dtype=np.float64, order='F')\n",
    "A2 = np.ones((10), dtype=np.float64, order='F')"
   ]
  },
  {
   "cell_type": "code",
   "execution_count": 18,
   "id": "5a751cd0",
   "metadata": {},
   "outputs": [
    {
     "data": {
      "text/plain": [
       "10.0"
      ]
     },
     "execution_count": 18,
     "metadata": {},
     "output_type": "execute_result"
    }
   ],
   "source": [
    "dot_product(A1, A2)"
   ]
  },
  {
   "cell_type": "code",
   "execution_count": null,
   "id": "2d156d90",
   "metadata": {},
   "outputs": [],
   "source": []
  }
 ],
 "metadata": {
  "kernelspec": {
   "display_name": "Python 3 (ipykernel)",
   "language": "python",
   "name": "python3"
  },
  "language_info": {
   "codemirror_mode": {
    "name": "ipython",
    "version": 3
   },
   "file_extension": ".py",
   "mimetype": "text/x-python",
   "name": "python",
   "nbconvert_exporter": "python",
   "pygments_lexer": "ipython3",
   "version": "3.8.8"
  }
 },
 "nbformat": 4,
 "nbformat_minor": 5
}
